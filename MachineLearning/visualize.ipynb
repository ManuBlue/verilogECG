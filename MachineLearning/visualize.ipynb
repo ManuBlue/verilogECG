{
 "cells": [
  {
   "cell_type": "code",
   "execution_count": null,
   "metadata": {},
   "outputs": [],
   "source": [
    "import pandas as pd\n",
    "df1 = pd.read_csv(\"./Data/mitbih_train_processed.csv\")\n",
    "df2 = pd.read_csv(\"./Data/mitbih_test_processed.csv\")\n",
    "df = pd.concat([df1, df2])\n"
   ]
  }
 ],
 "metadata": {
  "kernelspec": {
   "display_name": "py39_knime",
   "language": "python",
   "name": "python3"
  },
  "language_info": {
   "name": "python",
   "version": "3.9.19"
  }
 },
 "nbformat": 4,
 "nbformat_minor": 2
}
