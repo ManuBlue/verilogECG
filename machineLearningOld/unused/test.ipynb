{
 "cells": [
  {
   "cell_type": "code",
   "execution_count": 2,
   "metadata": {},
   "outputs": [
    {
     "name": "stderr",
     "output_type": "stream",
     "text": [
      "c:\\Users\\manug\\anaconda3\\envs\\py39_knime\\lib\\site-packages\\keras\\src\\layers\\core\\dense.py:87: UserWarning: Do not pass an `input_shape`/`input_dim` argument to a layer. When using Sequential models, prefer using an `Input(shape)` object as the first layer in the model instead.\n",
      "  super().__init__(activity_regularizer=activity_regularizer, **kwargs)\n"
     ]
    },
    {
     "name": "stdout",
     "output_type": "stream",
     "text": [
      "INFO:tensorflow:Assets written to: C:\\Users\\manug\\AppData\\Local\\Temp\\tmp4s6m2hfw\\assets\n"
     ]
    },
    {
     "name": "stderr",
     "output_type": "stream",
     "text": [
      "INFO:tensorflow:Assets written to: C:\\Users\\manug\\AppData\\Local\\Temp\\tmp4s6m2hfw\\assets\n"
     ]
    },
    {
     "name": "stdout",
     "output_type": "stream",
     "text": [
      "Saved artifact at 'C:\\Users\\manug\\AppData\\Local\\Temp\\tmp4s6m2hfw'. The following endpoints are available:\n",
      "\n",
      "* Endpoint 'serve'\n",
      "  args_0 (POSITIONAL_ONLY): TensorSpec(shape=(None, 20), dtype=tf.float32, name='keras_tensor_3')\n",
      "Output Type:\n",
      "  TensorSpec(shape=(None, 2), dtype=tf.float32, name=None)\n",
      "Captures:\n",
      "  1897783229424: TensorSpec(shape=(), dtype=tf.resource, name=None)\n",
      "  1897782396880: TensorSpec(shape=(), dtype=tf.resource, name=None)\n",
      "  1897783485888: TensorSpec(shape=(), dtype=tf.resource, name=None)\n",
      "  1897783486240: TensorSpec(shape=(), dtype=tf.resource, name=None)\n"
     ]
    }
   ],
   "source": [
    "import tensorflow as tf\n",
    "\n",
    "# Define and train a simple model\n",
    "model = tf.keras.Sequential([\n",
    "    tf.keras.layers.Dense(10, activation='relu', input_shape=(20,)),\n",
    "    tf.keras.layers.Dense(2)\n",
    "])\n",
    "\n",
    "# Quantization-aware training (optional for better accuracy)\n",
    "converter = tf.lite.TFLiteConverter.from_keras_model(model)\n",
    "converter.optimizations = [tf.lite.Optimize.DEFAULT]\n",
    "tflite_model = converter.convert()\n",
    "\n",
    "# Save the weights of each layer into a file\n",
    "with open(\"model_weights.txt\", \"w\") as f:\n",
    "    for layer in model.layers:\n",
    "        if hasattr(layer, 'weights'):\n",
    "            f.write(f\"Layer {layer.name} weights:\\n\")\n",
    "            weights = layer.get_weights()  # List of numpy arrays\n",
    "            for idx, w in enumerate(weights):\n",
    "                f.write(f\"Weight Matrix {idx + 1}:\\n\")\n",
    "                f.write(f\"{w}\\n\")  # Write the full array without truncation\n",
    "            f.write(\"\\n\")\n"
   ]
  }
 ],
 "metadata": {
  "kernelspec": {
   "display_name": "py39_knime",
   "language": "python",
   "name": "python3"
  },
  "language_info": {
   "codemirror_mode": {
    "name": "ipython",
    "version": 3
   },
   "file_extension": ".py",
   "mimetype": "text/x-python",
   "name": "python",
   "nbconvert_exporter": "python",
   "pygments_lexer": "ipython3",
   "version": "3.9.19"
  }
 },
 "nbformat": 4,
 "nbformat_minor": 2
}
