{
 "cells": [
  {
   "cell_type": "code",
   "execution_count": 2,
   "metadata": {},
   "outputs": [
    {
     "name": "stdout",
     "output_type": "stream",
     "text": [
      "Scaled data saved as CSV files.\n"
     ]
    }
   ],
   "source": [
    "import pandas as pd\n",
    "\n",
    "# Read the data\n",
    "df1 = pd.read_csv('./Data/mitbih_train.csv')\n",
    "df2 = pd.read_csv('./Data/mitbih_test.csv')\n",
    "\n",
    "# Separate features (X) and labels (Y)\n",
    "X = df1.iloc[:, :-1]  # All columns except the last\n",
    "Y = df1.iloc[:, -1]   # Only the last column\n",
    "Xtest = df2.iloc[:, :-1]\n",
    "Ytest = df2.iloc[:, -1]\n",
    "\n",
    "# Scale the feature data and convert to integers\n",
    "scaling_factor = 10**6\n",
    "X_scaled = (X * scaling_factor).astype(int)\n",
    "Xtest_scaled = (Xtest * scaling_factor).astype(int)\n",
    "\n",
    "# Combine scaled features with unscaled labels\n",
    "df1_scaled = pd.concat([X_scaled, Y], axis=1)\n",
    "df2_scaled = pd.concat([Xtest_scaled, Ytest], axis=1)\n",
    "\n",
    "# Save the scaled data to new CSV files\n",
    "df1_scaled.to_csv('./Data/mitbih_train_scaled.csv', index=False)\n",
    "df2_scaled.to_csv('./Data/mitbih_test_scaled.csv', index=False)\n",
    "\n",
    "print(\"Scaled data saved as CSV files.\")\n"
   ]
  }
 ],
 "metadata": {
  "kernelspec": {
   "display_name": "py39_knime",
   "language": "python",
   "name": "python3"
  },
  "language_info": {
   "codemirror_mode": {
    "name": "ipython",
    "version": 3
   },
   "file_extension": ".py",
   "mimetype": "text/x-python",
   "name": "python",
   "nbconvert_exporter": "python",
   "pygments_lexer": "ipython3",
   "version": "3.9.19"
  }
 },
 "nbformat": 4,
 "nbformat_minor": 2
}
