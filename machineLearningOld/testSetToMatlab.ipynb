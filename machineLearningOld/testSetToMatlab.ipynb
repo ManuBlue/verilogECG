{
 "cells": [
  {
   "cell_type": "code",
   "execution_count": 2,
   "metadata": {},
   "outputs": [],
   "source": [
    "import pandas as pd\n",
    "import torch \n",
    "df2 =pd.read_csv('./Data/mitbih_test.csv')\n",
    "input_size = 187 \n",
    "num_classes = 5\n",
    "Xtest,Ytest = df2.iloc[:, :-1],df2.iloc[:, -1]\n",
    "Xtest_tensor = torch.tensor(Xtest.values, dtype=torch.float32)\n",
    "Ytest_tensor = torch.tensor(Ytest.values, dtype=torch.long)"
   ]
  },
  {
   "cell_type": "code",
   "execution_count": 3,
   "metadata": {},
   "outputs": [
    {
     "data": {
      "text/plain": [
       "<All keys matched successfully>"
      ]
     },
     "execution_count": 3,
     "metadata": {},
     "output_type": "execute_result"
    }
   ],
   "source": [
    "import torch\n",
    "import torch.nn as nn\n",
    "class myModel(nn.Module):\n",
    "    def __init__(self, input_size, num_classes):\n",
    "        super(myModel, self).__init__()\n",
    "        self.model = nn.Sequential(\n",
    "            nn.Linear(input_size, 16),  # First dense layer\n",
    "            nn.ReLU(),                  # Activation function\n",
    "            nn.Dropout(0.2),            # Dropout for regularization\n",
    "            nn.Linear(16, 5),         # Second dense layer\n",
    "            # nn.ReLU(),                  # Activation function\n",
    "            # nn.Dropout(0.2),            # Dropout for regularization\n",
    "            # nn.Linear(64, num_classes)  # Output layer for classification\n",
    "        )\n",
    "\n",
    "    def forward(self, x):\n",
    "        return self.model(x)\n",
    "model = myModel(input_size=input_size, num_classes=num_classes)\n",
    "model.load_state_dict(torch.load(\"myModelHalf.pth\",weights_only=True))"
   ]
  },
  {
   "cell_type": "code",
   "execution_count": 4,
   "metadata": {},
   "outputs": [
    {
     "name": "stdout",
     "output_type": "stream",
     "text": [
      "Accuracy on test set: 95.17%\n"
     ]
    }
   ],
   "source": [
    "device = torch.device(\"cuda\" if torch.cuda.is_available() else \"cpu\")\n",
    "model.to(device)\n",
    "\n",
    "Xtest_tensor = Xtest_tensor.to(device)\n",
    "Ytest_tensor = Ytest_tensor.to(device)\n",
    "\n",
    "model.eval()  \n",
    "with torch.no_grad():  \n",
    "\n",
    "    outputs = model(Xtest_tensor) \n",
    "    _, predicted = torch.max(outputs, 1)  \n",
    "\n",
    "    correct = (predicted == Ytest_tensor).sum().item()\n",
    "    total = Ytest_tensor.size(0)\n",
    "    accuracy = correct / total * 100\n",
    "\n",
    "print(f\"Accuracy on test set: {accuracy:.2f}%\")\n"
   ]
  },
  {
   "cell_type": "code",
   "execution_count": 7,
   "metadata": {},
   "outputs": [
    {
     "name": "stdout",
     "output_type": "stream",
     "text": [
      "(30, 187)\n"
     ]
    }
   ],
   "source": [
    "import numpy as np\n",
    "\n",
    "# Convert tensor to NumPy array\n",
    "tensor_array = Xtest_tensor.cpu().numpy()\n",
    "\n",
    "# Round the array to the desired precision (e.g., 4 decimal places)\n",
    "# Ensure rounding works for all valid numeric types\n",
    "rounded_array = np.round(tensor_array.astype(np.float64), decimals=4)\n",
    "\n",
    "# Slice the array to include only the first 30 elements\n",
    "# Assuming it's a 1D array; adjust slicing for multi-dimensional arrays\n",
    "sliced_array = rounded_array[:30]\n",
    "print(np.shape(sliced_array))\n",
    "# Save the array to a file in Python list format\n",
    "with open(\"Xtest_tensor.py\", \"w\", encoding=\"utf-8\") as f:\n",
    "    f.write(\"Xtest_tensor = \" + repr(sliced_array.tolist()))\n",
    "    f.write(\";\")\n"
   ]
  },
  {
   "cell_type": "code",
   "execution_count": null,
   "metadata": {},
   "outputs": [],
   "source": []
  }
 ],
 "metadata": {
  "kernelspec": {
   "display_name": "py39_knime",
   "language": "python",
   "name": "python3"
  },
  "language_info": {
   "codemirror_mode": {
    "name": "ipython",
    "version": 3
   },
   "file_extension": ".py",
   "mimetype": "text/x-python",
   "name": "python",
   "nbconvert_exporter": "python",
   "pygments_lexer": "ipython3",
   "version": "3.9.19"
  }
 },
 "nbformat": 4,
 "nbformat_minor": 2
}
